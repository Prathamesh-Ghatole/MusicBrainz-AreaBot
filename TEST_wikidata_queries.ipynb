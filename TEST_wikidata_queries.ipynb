{
 "cells": [
  {
   "attachments": {},
   "cell_type": "markdown",
   "metadata": {},
   "source": [
    "### This notebook tests some relevant wikidata queries for the AreaBot"
   ]
  },
  {
   "cell_type": "code",
   "execution_count": 1,
   "metadata": {},
   "outputs": [],
   "source": [
    "from SPARQLWrapper import SPARQLWrapper, JSON\n",
    "import pandas as pd\n",
    "sparql = SPARQLWrapper(\"https://query.wikidata.org/sparql\")"
   ]
  },
  {
   "cell_type": "code",
   "execution_count": 2,
   "metadata": {},
   "outputs": [],
   "source": [
    "def fetch_query(query):\n",
    "    sparql.setQuery(query)\n",
    "    sparql.setReturnFormat(JSON)\n",
    "    results = sparql.query().convert()\n",
    "    results_df = pd.json_normalize(results['results']['bindings'])\n",
    "    results_df = results_df[[col for col in results_df.columns if col.endswith('value')]]\n",
    "    results_df.columns = [col.split('.')[0] for col in results_df.columns]\n",
    "    return results_df"
   ]
  },
  {
   "cell_type": "code",
   "execution_count": 3,
   "metadata": {},
   "outputs": [
    {
     "data": {
      "text/html": [
       "<div>\n",
       "<style scoped>\n",
       "    .dataframe tbody tr th:only-of-type {\n",
       "        vertical-align: middle;\n",
       "    }\n",
       "\n",
       "    .dataframe tbody tr th {\n",
       "        vertical-align: top;\n",
       "    }\n",
       "\n",
       "    .dataframe thead th {\n",
       "        text-align: right;\n",
       "    }\n",
       "</style>\n",
       "<table border=\"1\" class=\"dataframe\">\n",
       "  <thead>\n",
       "    <tr style=\"text-align: right;\">\n",
       "      <th></th>\n",
       "      <th>city</th>\n",
       "      <th>population</th>\n",
       "      <th>cityLabel</th>\n",
       "    </tr>\n",
       "  </thead>\n",
       "  <tbody>\n",
       "    <tr>\n",
       "      <th>0</th>\n",
       "      <td>http://www.wikidata.org/entity/Q8621</td>\n",
       "      <td>111189</td>\n",
       "      <td>Terni</td>\n",
       "    </tr>\n",
       "    <tr>\n",
       "      <th>1</th>\n",
       "      <td>http://www.wikidata.org/entity/Q8646</td>\n",
       "      <td>7500700</td>\n",
       "      <td>Hong Kong</td>\n",
       "    </tr>\n",
       "    <tr>\n",
       "      <th>2</th>\n",
       "      <td>http://www.wikidata.org/entity/Q8673</td>\n",
       "      <td>14862000</td>\n",
       "      <td>Lagos</td>\n",
       "    </tr>\n",
       "    <tr>\n",
       "      <th>3</th>\n",
       "      <td>http://www.wikidata.org/entity/Q8684</td>\n",
       "      <td>9668465</td>\n",
       "      <td>Seoul</td>\n",
       "    </tr>\n",
       "    <tr>\n",
       "      <th>4</th>\n",
       "      <td>http://www.wikidata.org/entity/Q8692</td>\n",
       "      <td>344127</td>\n",
       "      <td>Bilbao</td>\n",
       "    </tr>\n",
       "    <tr>\n",
       "      <th>...</th>\n",
       "      <td>...</td>\n",
       "      <td>...</td>\n",
       "      <td>...</td>\n",
       "    </tr>\n",
       "    <tr>\n",
       "      <th>102391</th>\n",
       "      <td>http://www.wikidata.org/entity/Q61845</td>\n",
       "      <td>3654</td>\n",
       "      <td>Grünsfeld</td>\n",
       "    </tr>\n",
       "    <tr>\n",
       "      <th>102392</th>\n",
       "      <td>http://www.wikidata.org/entity/Q61851</td>\n",
       "      <td>6662</td>\n",
       "      <td>Boxberg</td>\n",
       "    </tr>\n",
       "    <tr>\n",
       "      <th>102393</th>\n",
       "      <td>http://www.wikidata.org/entity/Q61890</td>\n",
       "      <td>15797</td>\n",
       "      <td>Marbach am Neckar</td>\n",
       "    </tr>\n",
       "    <tr>\n",
       "      <th>102394</th>\n",
       "      <td>http://www.wikidata.org/entity/Q61909</td>\n",
       "      <td>30251</td>\n",
       "      <td>Weil am Rhein</td>\n",
       "    </tr>\n",
       "    <tr>\n",
       "      <th>102395</th>\n",
       "      <td>http://www.wikidata.org/entity/Q61912</td>\n",
       "      <td>22777</td>\n",
       "      <td>Wertheim</td>\n",
       "    </tr>\n",
       "  </tbody>\n",
       "</table>\n",
       "<p>102396 rows × 3 columns</p>\n",
       "</div>"
      ],
      "text/plain": [
       "                                         city population          cityLabel\n",
       "0        http://www.wikidata.org/entity/Q8621     111189              Terni\n",
       "1        http://www.wikidata.org/entity/Q8646    7500700          Hong Kong\n",
       "2        http://www.wikidata.org/entity/Q8673   14862000              Lagos\n",
       "3        http://www.wikidata.org/entity/Q8684    9668465              Seoul\n",
       "4        http://www.wikidata.org/entity/Q8692     344127             Bilbao\n",
       "...                                       ...        ...                ...\n",
       "102391  http://www.wikidata.org/entity/Q61845       3654          Grünsfeld\n",
       "102392  http://www.wikidata.org/entity/Q61851       6662            Boxberg\n",
       "102393  http://www.wikidata.org/entity/Q61890      15797  Marbach am Neckar\n",
       "102394  http://www.wikidata.org/entity/Q61909      30251      Weil am Rhein\n",
       "102395  http://www.wikidata.org/entity/Q61912      22777           Wertheim\n",
       "\n",
       "[102396 rows x 3 columns]"
      ]
     },
     "execution_count": 3,
     "metadata": {},
     "output_type": "execute_result"
    }
   ],
   "source": [
    "query1 = \"\"\"\n",
    "SELECT ?city ?cityLabel ?population\n",
    "WHERE {\n",
    "  ?city wdt:P31/wdt:P279* wd:Q515.\n",
    "  OPTIONAL { ?city wdt:P1082 ?population. }\n",
    "  SERVICE wikibase:label { bd:serviceParam wikibase:language \"[AUTO_LANGUAGE],en\". }\n",
    "}\n",
    "\"\"\"\n",
    "\n",
    "df1 = fetch_query(query1)\n",
    "df1"
   ]
  },
  {
   "cell_type": "code",
   "execution_count": null,
   "metadata": {},
   "outputs": [],
   "source": []
  }
 ],
 "metadata": {
  "kernelspec": {
   "display_name": "env",
   "language": "python",
   "name": "python3"
  },
  "language_info": {
   "codemirror_mode": {
    "name": "ipython",
    "version": 3
   },
   "file_extension": ".py",
   "mimetype": "text/x-python",
   "name": "python",
   "nbconvert_exporter": "python",
   "pygments_lexer": "ipython3",
   "version": "3.8.10"
  },
  "orig_nbformat": 4
 },
 "nbformat": 4,
 "nbformat_minor": 2
}
